{
  "cells": [
    {
      "cell_type": "markdown",
      "id": "27422808-8a16-4be1-897f-57b379af8991",
      "metadata": {
        "id": "27422808-8a16-4be1-897f-57b379af8991"
      },
      "source": [
        "# Lab | APIs"
      ]
    },
    {
      "cell_type": "markdown",
      "id": "50f30950-3e31-499a-92ea-1535422c570b",
      "metadata": {
        "id": "50f30950-3e31-499a-92ea-1535422c570b"
      },
      "source": [
        "In order to use the `Spotify` API (`SpotiPy`), create an account in `Spotify` and follow [these](https://developer.spotify.com/documentation/general/guides/app-settings/) steps."
      ]
    },
    {
      "cell_type": "markdown",
      "id": "a0479b95-6ca5-415e-b894-1f5cb17b055b",
      "metadata": {
        "id": "a0479b95-6ca5-415e-b894-1f5cb17b055b"
      },
      "source": [
        "## Authentication and initializing the API"
      ]
    },
    {
      "cell_type": "markdown",
      "id": "47d71611-c617-4972-a0c3-7090c24b399c",
      "metadata": {
        "id": "47d71611-c617-4972-a0c3-7090c24b399c"
      },
      "source": [
        "Save your client ID and your client secret in your preferred way, and read it or load it into the following variables:"
      ]
    },
    {
      "cell_type": "code",
      "execution_count": 25,
      "id": "ea44c82a-5c07-4dbc-beb2-bba2601bb75e",
      "metadata": {
        "id": "ea44c82a-5c07-4dbc-beb2-bba2601bb75e"
      },
      "outputs": [],
      "source": [
        "CLIENT_ID = \"4109b2d9f5014671863bb2df1d1fbdd3\"\n",
        "CLIENT_SECRET = \"5cb719fae80c4191a9c0b288f51bfe50\""
      ]
    },
    {
      "cell_type": "code",
      "execution_count": 26,
      "id": "04e12954-fd70-4311-88a5-fb7e2c29799c",
      "metadata": {
        "colab": {
          "base_uri": "https://localhost:8080/"
        },
        "id": "04e12954-fd70-4311-88a5-fb7e2c29799c",
        "outputId": "73a82265-2123-42d5-cc7e-f4c1825646f2"
      },
      "outputs": [
        {
          "output_type": "stream",
          "name": "stdout",
          "text": [
            "Requirement already satisfied: spotipy in /usr/local/lib/python3.10/dist-packages (2.23.0)\n",
            "Requirement already satisfied: redis>=3.5.3 in /usr/local/lib/python3.10/dist-packages (from spotipy) (5.0.3)\n",
            "Requirement already satisfied: requests>=2.25.0 in /usr/local/lib/python3.10/dist-packages (from spotipy) (2.31.0)\n",
            "Requirement already satisfied: six>=1.15.0 in /usr/local/lib/python3.10/dist-packages (from spotipy) (1.16.0)\n",
            "Requirement already satisfied: urllib3>=1.26.0 in /usr/local/lib/python3.10/dist-packages (from spotipy) (2.0.7)\n",
            "Requirement already satisfied: async-timeout>=4.0.3 in /usr/local/lib/python3.10/dist-packages (from redis>=3.5.3->spotipy) (4.0.3)\n",
            "Requirement already satisfied: charset-normalizer<4,>=2 in /usr/local/lib/python3.10/dist-packages (from requests>=2.25.0->spotipy) (3.3.2)\n",
            "Requirement already satisfied: idna<4,>=2.5 in /usr/local/lib/python3.10/dist-packages (from requests>=2.25.0->spotipy) (3.6)\n",
            "Requirement already satisfied: certifi>=2017.4.17 in /usr/local/lib/python3.10/dist-packages (from requests>=2.25.0->spotipy) (2024.2.2)\n"
          ]
        }
      ],
      "source": [
        "# If you havent done so, install the spotipy wrapper\n",
        "!pip install spotipy"
      ]
    },
    {
      "cell_type": "markdown",
      "id": "dc0e86da-8846-4207-84c3-cd20b9e01d0e",
      "metadata": {
        "id": "dc0e86da-8846-4207-84c3-cd20b9e01d0e"
      },
      "source": [
        "Once you have done it, we will start initializing the API."
      ]
    },
    {
      "cell_type": "code",
      "execution_count": 27,
      "id": "03034bc6-9858-412a-83b7-18abdc345d7e",
      "metadata": {
        "id": "03034bc6-9858-412a-83b7-18abdc345d7e"
      },
      "outputs": [],
      "source": [
        "import spotipy\n",
        "from spotipy.oauth2 import SpotifyClientCredentials\n",
        "\n",
        "#Initialize SpotiPy with user credentials\n",
        "sp = spotipy.Spotify(auth_manager=SpotifyClientCredentials(client_id=CLIENT_ID,\n",
        "                                                           client_secret=CLIENT_SECRET))\n"
      ]
    },
    {
      "cell_type": "markdown",
      "id": "8fed9628-08d7-4290-a4be-5527696b01c5",
      "metadata": {
        "id": "8fed9628-08d7-4290-a4be-5527696b01c5"
      },
      "source": [
        "## Using the search method"
      ]
    },
    {
      "cell_type": "markdown",
      "id": "6575a3c6-f25a-4905-b1f3-c0efd50dcc1e",
      "metadata": {
        "id": "6575a3c6-f25a-4905-b1f3-c0efd50dcc1e"
      },
      "source": [
        "Now, let's use the search method by introducing a \"query\". For example, let's try searching for \"Lady Gaga\":"
      ]
    },
    {
      "cell_type": "code",
      "source": [
        "results = sp.search(q='Future Islands', limit=9)\n",
        "results"
      ],
      "metadata": {
        "id": "ekLiaU2tdLcG"
      },
      "id": "ekLiaU2tdLcG",
      "execution_count": null,
      "outputs": []
    },
    {
      "cell_type": "code",
      "execution_count": null,
      "id": "edc14c95-474b-4e2a-aea3-bdfd0a205546",
      "metadata": {
        "colab": {
          "base_uri": "https://localhost:8080/"
        },
        "id": "edc14c95-474b-4e2a-aea3-bdfd0a205546",
        "outputId": "b2b4af5b-82b1-4a00-b2f4-337ba21da645"
      },
      "outputs": [
        {
          "output_type": "execute_result",
          "data": {
            "text/plain": [
              "dict_keys(['tracks'])"
            ]
          },
          "metadata": {},
          "execution_count": 19
        }
      ],
      "source": [
        "results.keys() # We can see that we only have tracks"
      ]
    },
    {
      "cell_type": "code",
      "execution_count": null,
      "id": "ad8ef934-1dbb-4008-ac8e-f5c29823fe6a",
      "metadata": {
        "colab": {
          "base_uri": "https://localhost:8080/"
        },
        "id": "ad8ef934-1dbb-4008-ac8e-f5c29823fe6a",
        "outputId": "c5603541-e9f6-4bbf-d267-ae49bf7c2089"
      },
      "outputs": [
        {
          "output_type": "execute_result",
          "data": {
            "text/plain": [
              "dict_keys(['href', 'items', 'limit', 'next', 'offset', 'previous', 'total'])"
            ]
          },
          "metadata": {},
          "execution_count": 20
        }
      ],
      "source": [
        "results[\"tracks\"].keys() # Let's check the values"
      ]
    },
    {
      "cell_type": "code",
      "execution_count": null,
      "id": "004b7814-4dd5-408e-b7ba-1da87f9250cb",
      "metadata": {
        "colab": {
          "base_uri": "https://localhost:8080/",
          "height": 35
        },
        "id": "004b7814-4dd5-408e-b7ba-1da87f9250cb",
        "outputId": "12fc9169-01a2-4ce5-ffdf-9fda7704bd59"
      },
      "outputs": [
        {
          "output_type": "execute_result",
          "data": {
            "text/plain": [
              "'https://api.spotify.com/v1/search?query=Future+Islands&type=track&offset=0&limit=9'"
            ],
            "application/vnd.google.colaboratory.intrinsic+json": {
              "type": "string"
            }
          },
          "metadata": {},
          "execution_count": 21
        }
      ],
      "source": [
        "results[\"tracks\"][\"href\"] # Query we have searched"
      ]
    },
    {
      "cell_type": "code",
      "execution_count": null,
      "id": "7285cedd-fbe1-47cf-98d5-a7fdc3e5c8b8",
      "metadata": {
        "scrolled": true,
        "tags": [],
        "id": "7285cedd-fbe1-47cf-98d5-a7fdc3e5c8b8"
      },
      "outputs": [],
      "source": [
        "results[\"tracks\"][\"items\"] #items (actual tracks)"
      ]
    },
    {
      "cell_type": "code",
      "execution_count": null,
      "id": "529fff56-47d3-4d78-8ff5-9530fe290d1d",
      "metadata": {
        "id": "529fff56-47d3-4d78-8ff5-9530fe290d1d"
      },
      "outputs": [],
      "source": [
        "results[\"tracks\"][\"limit\"]#Limit we have chosen"
      ]
    },
    {
      "cell_type": "code",
      "execution_count": null,
      "id": "92c64c57-3bd2-4d42-bbd1-84a040f1e02a",
      "metadata": {
        "colab": {
          "base_uri": "https://localhost:8080/",
          "height": 35
        },
        "id": "92c64c57-3bd2-4d42-bbd1-84a040f1e02a",
        "outputId": "03ccbb06-10a9-4e67-f5f5-972922b32bed"
      },
      "outputs": [
        {
          "output_type": "execute_result",
          "data": {
            "text/plain": [
              "'https://api.spotify.com/v1/search?query=Future+Islands&type=track&offset=9&limit=9'"
            ],
            "application/vnd.google.colaboratory.intrinsic+json": {
              "type": "string"
            }
          },
          "metadata": {},
          "execution_count": 28
        }
      ],
      "source": [
        "results[\"tracks\"][\"next\"] #link to the next page (next 50 tracks)"
      ]
    },
    {
      "cell_type": "code",
      "execution_count": null,
      "id": "f5ccdf79-5d9e-40de-adb9-2cc1e5b7c74a",
      "metadata": {
        "tags": [],
        "colab": {
          "base_uri": "https://localhost:8080/"
        },
        "id": "f5ccdf79-5d9e-40de-adb9-2cc1e5b7c74a",
        "outputId": "2567136a-9a76-40de-b0bd-795b89ccf0af"
      },
      "outputs": [
        {
          "output_type": "execute_result",
          "data": {
            "text/plain": [
              "0"
            ]
          },
          "metadata": {},
          "execution_count": 27
        }
      ],
      "source": [
        "results[\"tracks\"][\"offset\"] # Actual offset (starting point)"
      ]
    },
    {
      "cell_type": "code",
      "execution_count": null,
      "id": "356730c1-60a2-4ea8-bd2c-e0522bab8a4d",
      "metadata": {
        "id": "356730c1-60a2-4ea8-bd2c-e0522bab8a4d"
      },
      "outputs": [],
      "source": [
        "results[\"tracks\"][\"previous\"] #Previous search"
      ]
    },
    {
      "cell_type": "code",
      "execution_count": null,
      "id": "7c44c8fd-63ea-45ba-94bd-5c5e8e1458b3",
      "metadata": {
        "colab": {
          "base_uri": "https://localhost:8080/"
        },
        "id": "7c44c8fd-63ea-45ba-94bd-5c5e8e1458b3",
        "outputId": "c3ec4784-09ab-43ff-872a-adcdd6d9fd56"
      },
      "outputs": [
        {
          "output_type": "execute_result",
          "data": {
            "text/plain": [
              "828"
            ]
          },
          "metadata": {},
          "execution_count": 25
        }
      ],
      "source": [
        "results[\"tracks\"][\"total\"] # Number of matches"
      ]
    },
    {
      "cell_type": "markdown",
      "id": "7a127c64-3274-4ecc-aa0f-83ae34af4655",
      "metadata": {
        "id": "7a127c64-3274-4ecc-aa0f-83ae34af4655"
      },
      "source": [
        "## Exploring the tracks"
      ]
    },
    {
      "cell_type": "code",
      "execution_count": null,
      "id": "6c3541a2-0fd2-41e0-9b27-60a7dc36c4cb",
      "metadata": {
        "scrolled": true,
        "tags": [],
        "id": "6c3541a2-0fd2-41e0-9b27-60a7dc36c4cb"
      },
      "outputs": [],
      "source": [
        "results[\"tracks\"][\"items\"][0] # Explore the first song"
      ]
    },
    {
      "cell_type": "code",
      "execution_count": null,
      "id": "f2c35eb2-3ea6-4329-9f29-7c062f466638",
      "metadata": {
        "id": "f2c35eb2-3ea6-4329-9f29-7c062f466638"
      },
      "outputs": [],
      "source": [
        "results[\"tracks\"][\"items\"][0].keys() # We will focus on album, artists, id, name, popularity, type and uri"
      ]
    },
    {
      "cell_type": "code",
      "execution_count": null,
      "id": "889ca3c3-b0c8-4037-96fb-6add847f537f",
      "metadata": {
        "id": "889ca3c3-b0c8-4037-96fb-6add847f537f"
      },
      "outputs": [],
      "source": [
        "# Track artists\n",
        "results[\"tracks\"][\"items\"][0][\"artists\"]"
      ]
    },
    {
      "cell_type": "code",
      "execution_count": null,
      "id": "a9c6a0b2-cea7-48ff-8c51-179d15388aa2",
      "metadata": {
        "colab": {
          "base_uri": "https://localhost:8080/"
        },
        "id": "a9c6a0b2-cea7-48ff-8c51-179d15388aa2",
        "outputId": "c191bd7b-bef4-4205-c5fa-ca75d94995ec"
      },
      "outputs": [
        {
          "output_type": "stream",
          "name": "stdout",
          "text": [
            "Future Islands\n"
          ]
        }
      ],
      "source": [
        "# Track artists names\n",
        "for artist in results[\"tracks\"][\"items\"][0][\"artists\"]:\n",
        "    print(artist[\"name\"])"
      ]
    },
    {
      "cell_type": "code",
      "execution_count": null,
      "id": "6a826e9c-d2e7-4537-a82c-3dc3a2b80b9f",
      "metadata": {
        "colab": {
          "base_uri": "https://localhost:8080/",
          "height": 35
        },
        "id": "6a826e9c-d2e7-4537-a82c-3dc3a2b80b9f",
        "outputId": "4a044b73-5fcd-4cb7-d74f-27274d51e1b1"
      },
      "outputs": [
        {
          "output_type": "execute_result",
          "data": {
            "text/plain": [
              "'09eApSzdPkFadMVJ8LlA3D'"
            ],
            "application/vnd.google.colaboratory.intrinsic+json": {
              "type": "string"
            }
          },
          "metadata": {},
          "execution_count": 33
        }
      ],
      "source": [
        "# Track ID\n",
        "results[\"tracks\"][\"items\"][0][\"id\"]"
      ]
    },
    {
      "cell_type": "code",
      "execution_count": null,
      "id": "a5bd871b-6087-4680-819c-1a1d8ba879bc",
      "metadata": {
        "colab": {
          "base_uri": "https://localhost:8080/",
          "height": 35
        },
        "id": "a5bd871b-6087-4680-819c-1a1d8ba879bc",
        "outputId": "b020bcf1-2270-4906-a7af-608e68d01ffb"
      },
      "outputs": [
        {
          "output_type": "execute_result",
          "data": {
            "text/plain": [
              "'The Tower'"
            ],
            "application/vnd.google.colaboratory.intrinsic+json": {
              "type": "string"
            }
          },
          "metadata": {},
          "execution_count": 34
        }
      ],
      "source": [
        "# Track name\n",
        "results[\"tracks\"][\"items\"][0][\"name\"]"
      ]
    },
    {
      "cell_type": "code",
      "execution_count": null,
      "id": "812661f1-29db-452f-a719-cdfbe95ba9f6",
      "metadata": {
        "colab": {
          "base_uri": "https://localhost:8080/"
        },
        "id": "812661f1-29db-452f-a719-cdfbe95ba9f6",
        "outputId": "db8a3b48-939a-49e0-9bd7-5af5d28ea6b4"
      },
      "outputs": [
        {
          "output_type": "execute_result",
          "data": {
            "text/plain": [
              "52"
            ]
          },
          "metadata": {},
          "execution_count": 35
        }
      ],
      "source": [
        "# Popularity index\n",
        "results[\"tracks\"][\"items\"][0][\"popularity\"]"
      ]
    },
    {
      "cell_type": "markdown",
      "id": "0e81c762-e6c5-424e-a4eb-12ab45dffb9f",
      "metadata": {
        "id": "0e81c762-e6c5-424e-a4eb-12ab45dffb9f"
      },
      "source": [
        "Spotify songs are identified by either a \"url\", a \"uri\", or an \"id\".\n",
        "\n",
        "- The `id` is an alphanumeric code, and it's the nuclear part of the identifier.\n",
        "\n",
        "- The `uri` contains \"spotify:track\" before the id. An uri is useful because it can be searched manually in the Spotify app.\n",
        "\n",
        "- The `url` is a link to the song on the Spotify web player.\n"
      ]
    },
    {
      "cell_type": "code",
      "execution_count": null,
      "id": "8bcdccfc-dde9-4f4b-8af5-3caa335b89b5",
      "metadata": {
        "colab": {
          "base_uri": "https://localhost:8080/",
          "height": 35
        },
        "id": "8bcdccfc-dde9-4f4b-8af5-3caa335b89b5",
        "outputId": "e6eee3b8-ac15-4e01-87e2-970da35b47e3"
      },
      "outputs": [
        {
          "output_type": "execute_result",
          "data": {
            "text/plain": [
              "'spotify:track:09eApSzdPkFadMVJ8LlA3D'"
            ],
            "application/vnd.google.colaboratory.intrinsic+json": {
              "type": "string"
            }
          },
          "metadata": {},
          "execution_count": 36
        }
      ],
      "source": [
        "results[\"tracks\"][\"items\"][0][\"uri\"]"
      ]
    },
    {
      "cell_type": "markdown",
      "source": [
        "## Exercise 1: Discovering New Music through Your Favorite Artists\n",
        "\n",
        "**Objective:**\n",
        "Uncover new music by exploring the top tracks of your favorite artists and their related artists.\n",
        "\n",
        "**Instructions:**\n",
        "\n",
        "1. **List Your Favorite Artists**:\n",
        "    - Make a list of your three favorite artists and store it in a variable named `artists`."
      ],
      "metadata": {
        "id": "uZcpgws5gG5B"
      },
      "id": "uZcpgws5gG5B"
    },
    {
      "cell_type": "code",
      "execution_count": 28,
      "id": "29694252-f217-454d-8881-681b2b6eeb1e",
      "metadata": {
        "id": "29694252-f217-454d-8881-681b2b6eeb1e"
      },
      "outputs": [],
      "source": [
        "# Task 1.1 > List of Favorite Artists:\n",
        "\n",
        "artists = [\"Future Islands\", \"Drug Holiday\", \"Jesse Woods\"]"
      ]
    },
    {
      "cell_type": "markdown",
      "source": [
        "2. **Fetch Top Tracks**:\n",
        "    - Write a function named `get_top_tracks`.\n",
        "    - This function should accept an artist's name and return the name of the first 5 top tracks by that artist.\n",
        "    - Use the function `get_top_tracks` to get the first 5 top tracks for each artist in your `artists` list and store the results in a new list named `top_tracks_list`."
      ],
      "metadata": {
        "id": "3n1vHzKQgOgB"
      },
      "id": "3n1vHzKQgOgB"
    },
    {
      "cell_type": "code",
      "source": [
        "# Importing requets libary for HTTP & time\n",
        "\n",
        "import requests\n",
        "import time"
      ],
      "metadata": {
        "id": "jY-R2-nXhMCS"
      },
      "id": "jY-R2-nXhMCS",
      "execution_count": 29,
      "outputs": []
    },
    {
      "cell_type": "code",
      "source": [
        "# Task 1.2 > Create a funtion to get top tracks:\n",
        "\n",
        "def get_top_tracks(artist_name):\n",
        "  results = sp.search(q=f'artist:{artist_name}', type='artist')\n",
        "  artist_id = results['artists']['items'][0]['id']\n",
        "  top_tracks = sp.artist_top_tracks(artist_id)['tracks']\n",
        "  return [track['name'] for track in top_tracks[:5]]"
      ],
      "metadata": {
        "id": "vShMh4qhfUBf"
      },
      "id": "vShMh4qhfUBf",
      "execution_count": 30,
      "outputs": []
    },
    {
      "cell_type": "code",
      "source": [
        "# Testing get_to_tracks function:\n",
        "\n",
        "get_top_tracks('Future Islands')"
      ],
      "metadata": {
        "colab": {
          "base_uri": "https://localhost:8080/"
        },
        "id": "xUjzyhLAoDQN",
        "outputId": "b03ea5be-107c-44bc-95cb-d8fbdf57fb34"
      },
      "id": "xUjzyhLAoDQN",
      "execution_count": 31,
      "outputs": [
        {
          "output_type": "execute_result",
          "data": {
            "text/plain": [
              "['Black Out Days - Future Islands Remix',\n",
              " 'Seasons (Waiting on You)',\n",
              " 'The Tower',\n",
              " 'Black Out Days - Future Islands Remix (Slowed)',\n",
              " 'King of Sweden']"
            ]
          },
          "metadata": {},
          "execution_count": 31
        }
      ]
    },
    {
      "cell_type": "code",
      "source": [
        "get_top_tracks('Drug Holiday')"
      ],
      "metadata": {
        "colab": {
          "base_uri": "https://localhost:8080/"
        },
        "id": "YidD0VHlpzuK",
        "outputId": "0bf13e9f-95d5-41ac-b3be-f1708e340551"
      },
      "id": "YidD0VHlpzuK",
      "execution_count": 32,
      "outputs": [
        {
          "output_type": "execute_result",
          "data": {
            "text/plain": [
              "['Perduts al Japó',\n",
              " 'Laura Is Dead',\n",
              " 'No Cheers for Punk',\n",
              " 'November in Denver',\n",
              " 'La Joia Eres Tu']"
            ]
          },
          "metadata": {},
          "execution_count": 32
        }
      ]
    },
    {
      "cell_type": "markdown",
      "source": [
        "3. **Fetching Related Artists**:\n",
        "    - Once you have the artist's ID, you can use another SpotiPy method to fetch related artists. Think about which SpotiPy method allows you to get related artists using an artist's ID. Here is the documentation link: https://spotipy.readthedocs.io/en/2.22.1/.\n",
        "    - This method will return a list of related artists. You'll need to extract the relevant details (artist names) from this list.\n",
        "\n",
        "**Challenge:**\n",
        "Combine the above steps to create a playlist that includes the top tracks of your favorite artists and the top tracks of the artists related to them."
      ],
      "metadata": {
        "id": "ByfOO9W-rdXz"
      },
      "id": "ByfOO9W-rdXz"
    },
    {
      "cell_type": "code",
      "source": [
        "# Task 3 > Get \"artist_related_artists\" to build a playlist\n",
        "\n",
        "def get_related_artists(artist_name):\n",
        "  results = sp.search(q=f'artist:{artist_name}', type='artist')\n",
        "  artist_id = results['artists']['items'][0]['id']\n",
        "  related_artists = sp.artist_related_artists(artist_id)['artists']\n",
        "  return [artist['name']for artist in related_artists[:5]]"
      ],
      "metadata": {
        "id": "tgbJwtjOrWdD"
      },
      "id": "tgbJwtjOrWdD",
      "execution_count": 33,
      "outputs": []
    },
    {
      "cell_type": "code",
      "source": [
        "# Testing get related artists:\n",
        "\n",
        "get_related_artists('Drug Holiday')"
      ],
      "metadata": {
        "colab": {
          "base_uri": "https://localhost:8080/"
        },
        "id": "rK-BIn_gwa85",
        "outputId": "b9ea5492-8dbc-4e2e-8047-bf7da67ce186"
      },
      "id": "rK-BIn_gwa85",
      "execution_count": 34,
      "outputs": [
        {
          "output_type": "execute_result",
          "data": {
            "text/plain": [
              "['Still Peruvians', 'Vie', 'SAINT-JACQUES', 'Filipin Yess', 'Janbu']"
            ]
          },
          "metadata": {},
          "execution_count": 34
        }
      ]
    },
    {
      "cell_type": "code",
      "source": [
        "# Getting top tracks of artist + related artists:\n",
        "\n",
        "def top_tracks_playlist(artist_name):\n",
        "    top_tracks = get_top_tracks(artist_name)\n",
        "    related_artists = get_related_artists(artist_name)\n",
        "    top_tracks_list = []\n",
        "\n",
        "    related_top_tracks = []\n",
        "\n",
        "    for related_artist in related_artists:\n",
        "        related_top_tracks += get_top_tracks(related_artist)\n",
        "\n",
        "    all_tracks = top_tracks + related_top_tracks\n",
        "    return all_tracks[:20]"
      ],
      "metadata": {
        "id": "oiJDB6i2xwQb"
      },
      "id": "oiJDB6i2xwQb",
      "execution_count": 35,
      "outputs": []
    },
    {
      "cell_type": "code",
      "source": [
        "# Testing 'top_tracks_playlist':\n",
        "\n",
        "top_tracks_playlist('Future Islands')"
      ],
      "metadata": {
        "colab": {
          "base_uri": "https://localhost:8080/"
        },
        "id": "Gc5URoet0A_s",
        "outputId": "fff41ab9-1b77-4654-9b20-8806d511d482"
      },
      "id": "Gc5URoet0A_s",
      "execution_count": 36,
      "outputs": [
        {
          "output_type": "execute_result",
          "data": {
            "text/plain": [
              "['Black Out Days - Future Islands Remix',\n",
              " 'Seasons (Waiting on You)',\n",
              " 'The Tower',\n",
              " 'Black Out Days - Future Islands Remix (Slowed)',\n",
              " 'King of Sweden',\n",
              " 'Red Eyes',\n",
              " 'Pain',\n",
              " \"I Don't Live Here Anymore (feat. Lucius)\",\n",
              " 'Thinking of a Place',\n",
              " 'Under The Pressure',\n",
              " 'Flowers',\n",
              " 'Water Underground',\n",
              " \"It's Real\",\n",
              " 'Darling',\n",
              " 'Haunted World',\n",
              " 'Saturdays (feat. HAIM)',\n",
              " 'Old Love / New Love',\n",
              " 'Alemania',\n",
              " 'Five Seconds',\n",
              " 'To the Top']"
            ]
          },
          "metadata": {},
          "execution_count": 36
        }
      ]
    },
    {
      "cell_type": "markdown",
      "source": [
        "**Hint Section for 3. **Discover Related Artists**:**\n",
        "\n",
        "1. **Getting Artist ID**:\n",
        "    - Remember that every artist on Spotify has a unique identifier: their `id`. To get the related artists, you first need to fetch the ID of the given artist.\n",
        "    - Consider using the `sp.search` method to query the artist's name. The method requires a `q` parameter, which is your query (in this case, the artist's name). It also has a `limit` parameter, which specifies the number of tracks it returns. In this case, 1 track is enough, since we just want the artist ID.\n",
        "    - Each track in the results has an associated 'artists' field. This field is a list containing details about all artists involved in that track.\n",
        "   - For most tracks, especially those by a single artist, this list will contain one artist. From this artist's details, you can extract the 'id' field, which is the unique identifier for that artist on Spotify.\n",
        "\n",
        "\n",
        "3. **Fetching Related Artists**:\n",
        "    - Once you have the artist's ID, you can use another SpotiPy method to fetch related artists. Think about which SpotiPy method allows you to get related artists using an artist's ID. Here is the documentation link: https://spotipy.readthedocs.io/en/2.22.1/.\n",
        "    - This method will return a list of related artists. You'll need to extract the relevant details (artist names) from this list.\n",
        "\n",
        "4. **Iterating for Multiple Artists**:\n",
        "    - Once you have a function that returns related artists names for one artist, you can use a list comprehension to apply this function to a list of artist names.\n",
        "\n",
        "5. **Testing**:\n",
        "    - Always test your function with one artist name first. Once you're confident it works, then apply it to the entire list.\n",
        "\n",
        "Remember, the key is to break the problem down into manageable steps. Use the SpotiPy documentation as a resource to understand available methods and their return structures."
      ],
      "metadata": {
        "id": "ON_NPpvPryBw"
      },
      "id": "ON_NPpvPryBw"
    },
    {
      "cell_type": "markdown",
      "id": "94ad5fdc-22e5-4521-8aa1-c6833eb7e949",
      "metadata": {
        "id": "94ad5fdc-22e5-4521-8aa1-c6833eb7e949"
      },
      "source": [
        "## Playlists\n",
        "\n",
        "The `sp.featured_playlists()` method in `spotipy` fetches a list of Spotify's featured playlists at a given moment. These are curated playlists that Spotify often highlights on the platform's homepage. The method provides a snapshot of the playlists that are being promoted or featured by Spotify at the time of the request.\n",
        "\n",
        "Once you've fetched the featured playlists, you can extract their IDs (and other details)."
      ]
    },
    {
      "cell_type": "code",
      "execution_count": null,
      "id": "25fb0cf8-c13a-41b0-b8f8-7e0700fd1e41",
      "metadata": {
        "id": "25fb0cf8-c13a-41b0-b8f8-7e0700fd1e41"
      },
      "outputs": [],
      "source": [
        "sp.featured_playlists() # We get a playlist id of a playlist we like"
      ]
    },
    {
      "cell_type": "markdown",
      "id": "90f558f3-c638-4df4-b5a4-e24f7847d52a",
      "metadata": {
        "id": "90f558f3-c638-4df4-b5a4-e24f7847d52a"
      },
      "source": [
        "### Getting a Playlist's Details\n",
        "To fetch details about a specific playlist, you can use the playlist method. You'll need the playlist's Spotify ID."
      ]
    },
    {
      "cell_type": "markdown",
      "id": "0eef529f-617f-4ea3-8156-07472ac8e6d5",
      "metadata": {
        "id": "0eef529f-617f-4ea3-8156-07472ac8e6d5"
      },
      "source": [
        "In this example, we will use the following playlist id: *37i9dQZF1DXd9zR7tdziuQ*"
      ]
    },
    {
      "cell_type": "code",
      "execution_count": 38,
      "id": "46d35121-9256-4cf4-81f5-118b87f7af32",
      "metadata": {
        "id": "46d35121-9256-4cf4-81f5-118b87f7af32"
      },
      "outputs": [],
      "source": [
        "playlist_id = \"37i9dQZF1DXd9zR7tdziuQ\"\n",
        "playlist = sp.playlist(playlist_id)"
      ]
    },
    {
      "cell_type": "code",
      "execution_count": 39,
      "id": "5260f67f-6024-4fee-8449-30904f03bf76",
      "metadata": {
        "colab": {
          "base_uri": "https://localhost:8080/"
        },
        "id": "5260f67f-6024-4fee-8449-30904f03bf76",
        "outputId": "cf9bc5fd-57c8-43af-a5d1-7d0a38c644c2"
      },
      "outputs": [
        {
          "output_type": "stream",
          "name": "stdout",
          "text": [
            "Hits acústicos\n",
            "Relájate con tus canciones favoritas en versión acústica / Descontrai com versões acústicas das tuas músicas preferidas.\n"
          ]
        }
      ],
      "source": [
        "print(playlist['name'])  # Print the playlist's name\n",
        "print(playlist['description'])  # Print the playlist's description"
      ]
    },
    {
      "cell_type": "markdown",
      "id": "13bc8631-69f0-4b98-9cc9-5baecbaea9ba",
      "metadata": {
        "id": "13bc8631-69f0-4b98-9cc9-5baecbaea9ba"
      },
      "source": [
        "### Getting Tracks from a Playlist\n",
        "If you want to get the tracks from a specific playlist, you can use the playlist_tracks method."
      ]
    },
    {
      "cell_type": "code",
      "execution_count": null,
      "id": "69c78f8d-7e6a-4d15-bcbb-fc93edb82433",
      "metadata": {
        "id": "69c78f8d-7e6a-4d15-bcbb-fc93edb82433"
      },
      "outputs": [],
      "source": [
        "tracks = sp.playlist_tracks(playlist_id)\n",
        "for track in tracks['items']:\n",
        "    print(track['track']['name'])  # Print each track's name"
      ]
    },
    {
      "cell_type": "markdown",
      "id": "2775714d-acc7-4555-96bd-2c541ab0855e",
      "metadata": {
        "id": "2775714d-acc7-4555-96bd-2c541ab0855e"
      },
      "source": [
        "### Getting Artists from a Playlist\n",
        "\n",
        "To extract all the artists from the tracks in a playlist, you'd typically follow these steps:\n",
        "\n",
        "1. Fetch the playlist's tracks.\n",
        "2. Iterate through each track.\n",
        "3. For each track, extract the associated artists."
      ]
    },
    {
      "cell_type": "code",
      "execution_count": 41,
      "id": "65c5e5c4-f186-42c6-b136-4ef02b0b01ff",
      "metadata": {
        "colab": {
          "base_uri": "https://localhost:8080/"
        },
        "id": "65c5e5c4-f186-42c6-b136-4ef02b0b01ff",
        "outputId": "886ebe13-a7ac-4848-c63e-d1e6947f5197"
      },
      "outputs": [
        {
          "output_type": "stream",
          "name": "stdout",
          "text": [
            "['Lana Del Rey', 'Iron & Wine', 'Dermot Kennedy', 'Tom Odell', 'Angus & Julia Stone', 'Daniela Andrade', 'Maroon 5', 'Elton John', 'Dua Lipa', 'Jasmine Thompson', 'JP Cooper', 'Sam Smith', 'Howie Day', 'James Bay', 'Ed Sheeran', 'Us The Duo', 'Florence + The Machine', 'Alicia Keys', 'James TW', 'Lissie', 'Aaron Krause', 'Liza Anne', 'Thomas Daniel', 'Julia Michaels', 'Ouvindo', 'Missy & Blonde', 'Julia Ross', 'Julia Sheer', 'Jon D', 'James Arthur', 'Noah Guthrie', 'Kacey Musgraves', 'James Blunt', 'Niall Horan', 'Freedom Fry', 'The Mayries', 'Tom Speight', 'Lydia Clowes', 'Charlie Puth', 'Lauv', 'Eddie Berman', 'Colin & Caroline', 'Kygo', 'Conrad Sewell', 'Twin Bandit', 'Joshua Hyslop', 'The Wind and The Wave', 'Calum Scott', 'John Mayer', 'Run River North', 'Taken By Trees', 'Jonas Blue', 'William Singe', 'Lotte Kestner', 'Jessie J', 'Sixpence None The Richer', 'Megan Davies', 'Keelan Donovan', 'John Legend', 'Joy Williams', 'Halloran & Kate', 'Obadiah Parker', 'Sara Farell', 'Passenger', \"Israel Kamakawiwo'ole\", 'Lily Allen', 'Frente!', 'Matt Johnson', 'Gardiner Sisters', 'Joanna Wang', 'The Lumineers', 'Sia', 'Daniel Powter', 'Lykke Li', 'Becca Adams', 'Molly Parden', 'Hollow Hum', 'William Fitzsimmons', 'Rachel Brown', 'Black Pumas', 'Alex Cornell', 'Clementine Duo', 'The Civil Wars', 'Arlo Parks', 'Kyle Nachtigal', 'Sarah Jarosz', 'Jaclyn Davies', 'Reggii']\n"
          ]
        }
      ],
      "source": [
        "# List to store unique artist names\n",
        "artists_list = []\n",
        "\n",
        "for track_item in tracks['items']:\n",
        "    track = track_item['track']\n",
        "    for artist in track['artists']:\n",
        "        artist_name = artist['name']\n",
        "        if artist_name not in artists_list:  # This ensures each artist is added only once\n",
        "            artists_list.append(artist_name)\n",
        "\n",
        "print(artists_list)"
      ]
    },
    {
      "cell_type": "markdown",
      "id": "7b52207e-a4f0-4f90-9f4e-3170d7f0f3fe",
      "metadata": {
        "id": "7b52207e-a4f0-4f90-9f4e-3170d7f0f3fe"
      },
      "source": [
        "## Exercise 2: Unraveling the World of Playlists\n",
        "\n",
        "\n",
        "1. **Featured Exploration**:\n",
        "   - Fetch the list of Spotify's current featured playlists.\n",
        "   - Extract and display the names and IDs of the top 5 featured playlists.\n",
        "   \n",
        "2. **Deep Dive**:\n",
        "   - Choose any one of the top 5 featured playlists (you can choose the one you personally find most interesting or simply pick one randomly).\n",
        "   - Fetch and display its name, description, and total track count.\n",
        "\n",
        "3. **Track-tastic**:\n",
        "   - Extract and display the names of the first 10 tracks in the chosen playlist.\n",
        "\n",
        "4. **Artistic Flair**:\n",
        "   - Create a dictionary where the keys are the names of the first 10 tracks, and the values are lists containing the names of the artists associated with each track.\n",
        "   - For example: `{\"TrackName1\": [\"Artist1\", \"Artist2\"], \"TrackName2\": [\"Artist3\"]}`\n",
        "   "
      ]
    },
    {
      "cell_type": "code",
      "execution_count": 42,
      "id": "ed92d961-9646-4375-a386-ccc320a958f5",
      "metadata": {
        "id": "ed92d961-9646-4375-a386-ccc320a958f5"
      },
      "outputs": [],
      "source": [
        "# Task 1.1 > Fetch the top 5 Spotify's current featured playlists (in Spain):\n",
        "\n",
        "featured_playlists = sp.featured_playlists(country='ES', limit=5)"
      ]
    },
    {
      "cell_type": "code",
      "source": [
        "# Task 1.2 > Get names and IDs of the top 5 featured playlists pulled:\n",
        "\n",
        "playlist_name_and_ids_top_5_lists = [(playlist['name'], playlist['id']) for playlist in featured_playlists['playlists']['items']]\n",
        "playlist_name_and_ids_top_5_lists"
      ],
      "metadata": {
        "colab": {
          "base_uri": "https://localhost:8080/"
        },
        "id": "gEqi5hdi705u",
        "outputId": "d2799d10-6ad8-4b16-c44a-1122d8666840"
      },
      "id": "gEqi5hdi705u",
      "execution_count": 43,
      "outputs": [
        {
          "output_type": "execute_result",
          "data": {
            "text/plain": [
              "[('Today’s Top Hits', '37i9dQZF1DXcBWIGoYBM5M'),\n",
              " (\"St. Patrick's Day\", '37i9dQZF1DWSCaDvxADWZT'),\n",
              " ('RapCaviar', '37i9dQZF1DX0XUsuxWHRQd'),\n",
              " ('Hot Country', '37i9dQZF1DX1lVhptIYRda'),\n",
              " ('Hot Hits USA', '37i9dQZF1DX0kbJZpiYdZl')]"
            ]
          },
          "metadata": {},
          "execution_count": 43
        }
      ]
    },
    {
      "cell_type": "code",
      "source": [
        "# Task 2 > Create function to display playlist info (name, description, and total track count):\n",
        "\n",
        "def get_playlist_info(playlist_id):\n",
        "  print(\"This is your playlist info:\")\n",
        "  print(f\"\\nName: {playlist['name']}\")\n",
        "  print(f\"Description: {playlist['description']}\")\n",
        "  print(f\"Total # tracks: {playlist['tracks']['total']}\")"
      ],
      "metadata": {
        "id": "mmmr8QRD8sAU"
      },
      "id": "mmmr8QRD8sAU",
      "execution_count": 44,
      "outputs": []
    },
    {
      "cell_type": "code",
      "source": [
        "get_playlist_info('37i9dQZF1DWSCaDvxADWZT')"
      ],
      "metadata": {
        "colab": {
          "base_uri": "https://localhost:8080/"
        },
        "id": "8aouLtKDfuYw",
        "outputId": "69d1b363-5121-4d65-f337-1b6128727c2b"
      },
      "id": "8aouLtKDfuYw",
      "execution_count": 45,
      "outputs": [
        {
          "output_type": "stream",
          "name": "stdout",
          "text": [
            "This is your playlist info:\n",
            "\n",
            "Name: Hits acústicos\n",
            "Description: Relájate con tus canciones favoritas en versión acústica / Descontrai com versões acústicas das tuas músicas preferidas.\n",
            "Total # tracks: 150\n"
          ]
        }
      ]
    },
    {
      "cell_type": "code",
      "source": [
        "# Testing 'get_playlist_info' function:\n",
        "\n",
        "get_playlist_info('37i9dQZF1DWSCaDvxADWZT')"
      ],
      "metadata": {
        "colab": {
          "base_uri": "https://localhost:8080/"
        },
        "id": "-dgQp15Z-7iB",
        "outputId": "35663e8f-793c-4be4-91af-761f2afd42f6"
      },
      "id": "-dgQp15Z-7iB",
      "execution_count": 46,
      "outputs": [
        {
          "output_type": "stream",
          "name": "stdout",
          "text": [
            "This is your playlist info:\n",
            "\n",
            "Name: Hits acústicos\n",
            "Description: Relájate con tus canciones favoritas en versión acústica / Descontrai com versões acústicas das tuas músicas preferidas.\n",
            "Total # tracks: 150\n"
          ]
        }
      ]
    },
    {
      "cell_type": "code",
      "source": [
        "# Task 3 > Get the names of the first 10 tracks in the chosen playlist:\n",
        "\n",
        "print(\"The first 10 tracks in the chosen playlist:\")\n",
        "tracks = sp.playlist_tracks('37i9dQZF1DXcBWIGoYBM5M', limit = 10)\n",
        "for track in tracks['items']:\n",
        "    print(track['track']['name'])"
      ],
      "metadata": {
        "colab": {
          "base_uri": "https://localhost:8080/"
        },
        "id": "8ctE5BOXAP5p",
        "outputId": "5a27dc3e-9a4f-4f90-c415-58c2ced2417d"
      },
      "id": "8ctE5BOXAP5p",
      "execution_count": 47,
      "outputs": [
        {
          "output_type": "stream",
          "name": "stdout",
          "text": [
            "The first 10 tracks in the chosen playlist:\n",
            "we can't be friends (wait for your love)\n",
            "Lose Control\n",
            "TEXAS HOLD 'EM\n",
            "Beautiful Things\n",
            "greedy\n",
            "Stick Season\n",
            "Saturn\n",
            "redrum\n",
            "End of Beginning\n",
            "Training Season\n"
          ]
        }
      ]
    },
    {
      "cell_type": "code",
      "source": [
        "# Task 4 > Create a dictionary:\n",
        "\n",
        "artists_dict = {}"
      ],
      "metadata": {
        "id": "yJRNAtsagSAh"
      },
      "id": "yJRNAtsagSAh",
      "execution_count": 48,
      "outputs": []
    },
    {
      "cell_type": "code",
      "source": [
        "tracks_dict = sp.playlist_tracks(playlist_id, limit=10)"
      ],
      "metadata": {
        "id": "BJKhLEBuhMiT"
      },
      "id": "BJKhLEBuhMiT",
      "execution_count": 49,
      "outputs": []
    },
    {
      "cell_type": "code",
      "source": [
        "for track in tracks_dict['items']:\n",
        "  track_name = track['track']['name']\n",
        "  artists = [artist['name'] for artist in track['track']['artists']]\n",
        "  artists_dict[track_name] = artists"
      ],
      "metadata": {
        "id": "kCJDm8iXhVSo"
      },
      "id": "kCJDm8iXhVSo",
      "execution_count": 50,
      "outputs": []
    },
    {
      "cell_type": "code",
      "source": [
        "for track_name, artists in artists_dict.items():\n",
        "  print(f\"{track_name}: {artists}\")"
      ],
      "metadata": {
        "colab": {
          "base_uri": "https://localhost:8080/"
        },
        "id": "HHQcmR9PhfGc",
        "outputId": "24289fab-be68-46d8-9254-eaa113a7b0e1"
      },
      "id": "HHQcmR9PhfGc",
      "execution_count": 52,
      "outputs": [
        {
          "output_type": "stream",
          "name": "stdout",
          "text": [
            "Take Me Home, Country Roads: ['Lana Del Rey']\n",
            "Time After Time: ['Iron & Wine']\n",
            "Days Like This: ['Dermot Kennedy']\n",
            "True Colours: ['Tom Odell']\n",
            "Stay With Me - Live From Spotify Berlin: ['Angus & Julia Stone']\n",
            "La Vie En Rose: ['Daniela Andrade']\n",
            "Sunday Morning - Acoustic: ['Maroon 5']\n",
            "Cold Heart - Acoustic: ['Elton John', 'Dua Lipa']\n",
            "You Are My Sunshine: ['Jasmine Thompson']\n",
            "September Song - Guitar Acoustic: ['JP Cooper']\n"
          ]
        }
      ]
    }
  ],
  "metadata": {
    "kernelspec": {
      "display_name": "Python 3 (ipykernel)",
      "language": "python",
      "name": "python3"
    },
    "language_info": {
      "codemirror_mode": {
        "name": "ipython",
        "version": 3
      },
      "file_extension": ".py",
      "mimetype": "text/x-python",
      "name": "python",
      "nbconvert_exporter": "python",
      "pygments_lexer": "ipython3",
      "version": "3.9.13"
    },
    "colab": {
      "provenance": [],
      "toc_visible": true
    }
  },
  "nbformat": 4,
  "nbformat_minor": 5
}